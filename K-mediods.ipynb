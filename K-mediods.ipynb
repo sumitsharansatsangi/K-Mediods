{
 "cells": [
  {
   "cell_type": "markdown",
   "metadata": {},
   "source": [
    "# Loading Libraries"
   ]
  },
  {
   "cell_type": "code",
   "execution_count": 1,
   "metadata": {},
   "outputs": [],
   "source": [
    "import numpy as np\n",
    "import pandas as pd\n",
    "import matplotlib.pyplot as plt"
   ]
  },
  {
   "cell_type": "markdown",
   "metadata": {},
   "source": [
    "# Loading Data"
   ]
  },
  {
   "cell_type": "code",
   "execution_count": 2,
   "metadata": {},
   "outputs": [],
   "source": [
    "df=pd.read_csv(\"iris.csv\")\n",
    "df=pd.DataFrame(np.array(df))"
   ]
  },
  {
   "cell_type": "markdown",
   "metadata": {},
   "source": [
    "# Deleting Labels"
   ]
  },
  {
   "cell_type": "code",
   "execution_count": 3,
   "metadata": {},
   "outputs": [],
   "source": [
    "del df[4]"
   ]
  },
  {
   "cell_type": "markdown",
   "metadata": {},
   "source": [
    "# Setting Parameter"
   ]
  },
  {
   "cell_type": "code",
   "execution_count": 4,
   "metadata": {},
   "outputs": [],
   "source": [
    "k=3\n",
    "n=df.shape[0]\n",
    "c=df.shape[1] "
   ]
  },
  {
   "cell_type": "code",
   "execution_count": 5,
   "metadata": {},
   "outputs": [
    {
     "data": {
      "text/html": [
       "<div>\n",
       "<style scoped>\n",
       "    .dataframe tbody tr th:only-of-type {\n",
       "        vertical-align: middle;\n",
       "    }\n",
       "\n",
       "    .dataframe tbody tr th {\n",
       "        vertical-align: top;\n",
       "    }\n",
       "\n",
       "    .dataframe thead th {\n",
       "        text-align: right;\n",
       "    }\n",
       "</style>\n",
       "<table border=\"1\" class=\"dataframe\">\n",
       "  <thead>\n",
       "    <tr style=\"text-align: right;\">\n",
       "      <th></th>\n",
       "      <th>0</th>\n",
       "      <th>1</th>\n",
       "      <th>2</th>\n",
       "      <th>3</th>\n",
       "    </tr>\n",
       "  </thead>\n",
       "  <tbody>\n",
       "    <tr>\n",
       "      <td>0</td>\n",
       "      <td>5.1</td>\n",
       "      <td>3.5</td>\n",
       "      <td>1.4</td>\n",
       "      <td>0.2</td>\n",
       "    </tr>\n",
       "    <tr>\n",
       "      <td>1</td>\n",
       "      <td>4.9</td>\n",
       "      <td>3</td>\n",
       "      <td>1.4</td>\n",
       "      <td>0.2</td>\n",
       "    </tr>\n",
       "    <tr>\n",
       "      <td>2</td>\n",
       "      <td>4.7</td>\n",
       "      <td>3.2</td>\n",
       "      <td>1.3</td>\n",
       "      <td>0.2</td>\n",
       "    </tr>\n",
       "    <tr>\n",
       "      <td>3</td>\n",
       "      <td>4.6</td>\n",
       "      <td>3.1</td>\n",
       "      <td>1.5</td>\n",
       "      <td>0.2</td>\n",
       "    </tr>\n",
       "    <tr>\n",
       "      <td>4</td>\n",
       "      <td>5</td>\n",
       "      <td>3.6</td>\n",
       "      <td>1.4</td>\n",
       "      <td>0.2</td>\n",
       "    </tr>\n",
       "    <tr>\n",
       "      <td>...</td>\n",
       "      <td>...</td>\n",
       "      <td>...</td>\n",
       "      <td>...</td>\n",
       "      <td>...</td>\n",
       "    </tr>\n",
       "    <tr>\n",
       "      <td>145</td>\n",
       "      <td>6.7</td>\n",
       "      <td>3</td>\n",
       "      <td>5.2</td>\n",
       "      <td>2.3</td>\n",
       "    </tr>\n",
       "    <tr>\n",
       "      <td>146</td>\n",
       "      <td>6.3</td>\n",
       "      <td>2.5</td>\n",
       "      <td>5</td>\n",
       "      <td>1.9</td>\n",
       "    </tr>\n",
       "    <tr>\n",
       "      <td>147</td>\n",
       "      <td>6.5</td>\n",
       "      <td>3</td>\n",
       "      <td>5.2</td>\n",
       "      <td>2</td>\n",
       "    </tr>\n",
       "    <tr>\n",
       "      <td>148</td>\n",
       "      <td>6.2</td>\n",
       "      <td>3.4</td>\n",
       "      <td>5.4</td>\n",
       "      <td>2.3</td>\n",
       "    </tr>\n",
       "    <tr>\n",
       "      <td>149</td>\n",
       "      <td>5.9</td>\n",
       "      <td>3</td>\n",
       "      <td>5.1</td>\n",
       "      <td>1.8</td>\n",
       "    </tr>\n",
       "  </tbody>\n",
       "</table>\n",
       "<p>150 rows × 4 columns</p>\n",
       "</div>"
      ],
      "text/plain": [
       "       0    1    2    3\n",
       "0    5.1  3.5  1.4  0.2\n",
       "1    4.9    3  1.4  0.2\n",
       "2    4.7  3.2  1.3  0.2\n",
       "3    4.6  3.1  1.5  0.2\n",
       "4      5  3.6  1.4  0.2\n",
       "..   ...  ...  ...  ...\n",
       "145  6.7    3  5.2  2.3\n",
       "146  6.3  2.5    5  1.9\n",
       "147  6.5    3  5.2    2\n",
       "148  6.2  3.4  5.4  2.3\n",
       "149  5.9    3  5.1  1.8\n",
       "\n",
       "[150 rows x 4 columns]"
      ]
     },
     "execution_count": 5,
     "metadata": {},
     "output_type": "execute_result"
    }
   ],
   "source": [
    "df"
   ]
  },
  {
   "cell_type": "markdown",
   "metadata": {},
   "source": [
    "# Standardising the Data"
   ]
  },
  {
   "cell_type": "code",
   "execution_count": 6,
   "metadata": {},
   "outputs": [],
   "source": [
    "df=(df-np.mean(df))/np.std(df)"
   ]
  },
  {
   "cell_type": "markdown",
   "metadata": {},
   "source": [
    "# Choosing Random Sample"
   ]
  },
  {
   "cell_type": "code",
   "execution_count": 7,
   "metadata": {},
   "outputs": [],
   "source": [
    "import random\n",
    "selected=[]\n",
    "for i in range(k):\n",
    "    selected.append(random.randint(0,n-1))"
   ]
  },
  {
   "cell_type": "markdown",
   "metadata": {},
   "source": [
    "## K_Mediods"
   ]
  },
  {
   "cell_type": "code",
   "execution_count": 8,
   "metadata": {},
   "outputs": [
    {
     "name": "stdout",
     "output_type": "stream",
     "text": [
      "358.61763552489754 393.89500093707755\n",
      "358.61763552489754 406.5975840310809\n",
      "358.61763552489754 352.4604600666014\n",
      "352.4604600666014 354.00308685680056\n",
      "352.4604600666014 281.8965829045712\n",
      "281.8965829045712 545.58784408382\n",
      "281.8965829045712 330.97881218516585\n",
      "281.8965829045712 312.5425784292736\n",
      "281.8965829045712 683.8793993914704\n",
      "281.8965829045712 296.04449219411765\n",
      "281.8965829045712 375.89412359408215\n",
      "281.8965829045712 333.2226750454463\n",
      "281.8965829045712 428.0609775386095\n",
      "281.8965829045712 328.14645803534637\n",
      "281.8965829045712 342.0079073422707\n",
      "281.8965829045712 414.35628167374665\n",
      "281.8965829045712 298.877007373596\n",
      "281.8965829045712 357.0936207746162\n",
      "281.8965829045712 374.80679837196425\n",
      "281.8965829045712 346.3282234404355\n",
      "281.8965829045712 295.8106824789544\n",
      "281.8965829045712 336.6873360771105\n",
      "281.8965829045712 304.3545580389261\n",
      "281.8965829045712 379.8999001385057\n",
      "281.8965829045712 394.34792847049465\n",
      "281.8965829045712 367.4263245161956\n",
      "281.8965829045712 290.5740864920008\n",
      "281.8965829045712 726.0568440310248\n",
      "281.8965829045712 329.8981833130641\n",
      "281.8965829045712 468.5542624877409\n",
      "281.8965829045712 354.00308685680056\n",
      "281.8965829045712 332.18965204966463\n",
      "281.8965829045712 282.6964449719339\n",
      "281.8965829045712 297.19591982311806\n",
      "281.8965829045712 375.2432662775068\n",
      "281.8965829045712 406.9096719456721\n",
      "281.8965829045712 387.55642120665726\n",
      "281.8965829045712 320.7422972026223\n",
      "281.8965829045712 315.32385239574904\n",
      "281.8965829045712 301.15184737479166\n",
      "281.8965829045712 316.51525702217424\n",
      "281.8965829045712 326.3196495112226\n",
      "281.8965829045712 301.48988360084195\n",
      "281.8965829045712 773.2014382135992\n",
      "281.8965829045712 374.54797387179775\n",
      "281.8965829045712 299.5078385988714\n",
      "281.8965829045712 411.4691813368141\n",
      "281.8965829045712 741.6903552234633\n",
      "281.8965829045712 305.2051002261099\n",
      "281.8965829045712 331.7943490328806\n",
      "281.8965829045712 370.8560326679796\n",
      "281.8965829045712 718.7025899479609\n",
      "281.8965829045712 310.8112141324433\n",
      "281.8965829045712 315.79284668185204\n",
      "281.8965829045712 338.1883864791187\n",
      "281.8965829045712 452.57632174182737\n",
      "281.8965829045712 384.73759059435116\n",
      "281.8965829045712 489.8130683895855\n",
      "281.8965829045712 414.35628167374665\n",
      "281.8965829045712 746.1402767535925\n",
      "281.8965829045712 346.18385639468636\n",
      "281.8965829045712 281.3618033360651\n",
      "281.3618033360651 346.9788504741628\n",
      "281.3618033360651 297.82251912682847\n",
      "281.3618033360651 376.0124936304521\n",
      "281.3618033360651 338.04111404241013\n",
      "281.3618033360651 350.4856795490447\n",
      "281.3618033360651 326.3196495112226\n",
      "281.3618033360651 326.2631471997545\n",
      "281.3618033360651 326.11741925882905\n",
      "281.3618033360651 356.26452086734673\n",
      "281.3618033360651 400.05022348183627\n",
      "281.3618033360651 374.9854497962557\n",
      "281.3618033360651 354.07461858893754\n",
      "281.3618033360651 395.48760651277104\n",
      "281.3618033360651 703.3777080489531\n",
      "281.3618033360651 314.7561481250486\n",
      "281.3618033360651 315.79284668185204\n",
      "281.3618033360651 380.32874403122\n",
      "281.3618033360651 335.3183656374361\n",
      "281.3618033360651 405.3117025918084\n",
      "281.3618033360651 726.0568440310248\n",
      "281.3618033360651 327.88639020377224\n",
      "281.3618033360651 330.629985214041\n",
      "281.3618033360651 395.91876928090863\n",
      "281.3618033360651 320.7422972026223\n",
      "281.3618033360651 286.4514676424837\n",
      "281.3618033360651 802.7301197583661\n",
      "281.3618033360651 301.15184737479166\n",
      "281.3618033360651 319.8660938089046\n",
      "281.3618033360651 315.895049527881\n",
      "281.3618033360651 335.1087730122049\n",
      "281.3618033360651 344.60279961528755\n",
      "281.3618033360651 331.0494652657567\n",
      "281.3618033360651 321.9136093396684\n",
      "281.3618033360651 352.1024000843535\n",
      "281.3618033360651 338.8943180675277\n",
      "281.3618033360651 384.65959500291365\n",
      "281.3618033360651 359.55066914438964\n",
      "281.3618033360651 645.3376076704039\n",
      "281.3618033360651 327.59417397817947\n",
      "281.3618033360651 768.5845706197238\n",
      "281.3618033360651 384.65959500291365\n",
      "281.3618033360651 342.0079073422707\n",
      "281.3618033360651 718.7025899479609\n",
      "281.3618033360651 345.58659356627834\n",
      "281.3618033360651 356.11795330606117\n",
      "281.3618033360651 321.9136093396684\n",
      "281.3618033360651 691.0615102175517\n",
      "281.3618033360651 444.18662295791546\n",
      "281.3618033360651 330.267836839039\n",
      "281.3618033360651 308.897041429928\n",
      "281.3618033360651 301.15184737479166\n",
      "281.3618033360651 297.19591982311806\n",
      "281.3618033360651 308.897041429928\n",
      "281.3618033360651 367.173222534014\n",
      "281.3618033360651 356.96438876552793\n",
      "281.3618033360651 328.4444143144669\n",
      "281.3618033360651 341.09328878839864\n",
      "281.3618033360651 324.0352234592717\n",
      "281.3618033360651 402.33826851898027\n",
      "281.3618033360651 483.96272684060455\n",
      "281.3618033360651 341.09328878839864\n",
      "281.3618033360651 304.3499420819438\n",
      "281.3618033360651 353.53505135740824\n",
      "281.3618033360651 399.15046687068536\n",
      "281.3618033360651 404.54525050939753\n",
      "281.3618033360651 359.55066914438964\n",
      "281.3618033360651 338.0495043313324\n",
      "281.3618033360651 332.24101699344584\n",
      "281.3618033360651 355.3806963590905\n",
      "281.3618033360651 334.6470233352076\n",
      "281.3618033360651 333.2226750454463\n",
      "281.3618033360651 362.8468522649878\n",
      "281.3618033360651 387.0208101774917\n",
      "281.3618033360651 689.0397178019273\n",
      "281.3618033360651 310.26039297426706\n",
      "281.3618033360651 400.05022348183627\n",
      "281.3618033360651 347.88292079127615\n",
      "281.3618033360651 321.9144874582556\n",
      "281.3618033360651 420.88619007417384\n",
      "281.3618033360651 405.2895499422991\n",
      "281.3618033360651 405.2895499422991\n",
      "281.3618033360651 774.0569735878325\n",
      "281.3618033360651 353.53505135740824\n",
      "281.3618033360651 344.6939895321305\n",
      "281.3618033360651 402.0764508932053\n",
      "281.3618033360651 726.2562702334742\n",
      "281.3618033360651 346.5045927263574\n",
      "281.3618033360651 767.9780718145262\n"
     ]
    }
   ],
   "source": [
    "old_dist=[]\n",
    "old_clust=[]\n",
    "for j in range(n):\n",
    "    dist1=[]\n",
    "    for i in selected:\n",
    "        if i!=j:\n",
    "            dist1.append(sum(abs(df.loc[j]-df.loc[i])))\n",
    "    old_dist.append(dist1)\n",
    "for i in range(k):\n",
    "    old_clust.append([])\n",
    "for i in range(len(old_dist)):\n",
    "    old_clust[np.argmin(old_dist[i])].append(i)\n",
    "    \n",
    "a=True  \n",
    "for r in range(n):\n",
    "#while(a):\n",
    "    new_dist=[]\n",
    "    new_clust=[]\n",
    "    new_selected=[]\n",
    "    s_idx=random.randint(0,k-1)    \n",
    "    c=0\n",
    "    for  i in range(k):\n",
    "        new_selected.append([])\n",
    "        if(i!=s_idx):\n",
    "            new_selected[i]=selected[i]\n",
    "    \n",
    "    while(c==0):\n",
    "        new=random.randint(0,n-1)\n",
    "        if new not in selected:\n",
    "            c=1\n",
    "            new_selected[s_idx]=new\n",
    "            \n",
    "    for j in range(n):\n",
    "        dist1=[]\n",
    "        for i in new_selected:\n",
    "            if i!=j:\n",
    "                dist1.append(sum(abs(df.loc[j]-df.loc[i])))\n",
    "        new_dist.append(dist1)\n",
    "    for i in range(k):\n",
    "        new_clust.append([])\n",
    "    for i in range(len(new_dist)):\n",
    "        new_clust[np.argmin(new_dist[i])].append(i)\n",
    "   \n",
    "    old_dist_sum=0\n",
    "    for i in range(n):\n",
    "        old_dist_sum+=min(old_dist[i])\n",
    "    \n",
    "    new_dist_sum=0\n",
    "    for i in range(n):\n",
    "        new_dist_sum+=min(new_dist[i])\n",
    "    if(old_dist_sum>new_dist_sum):   \n",
    "     #   a=False\n",
    "        old_dist=new_dist[:]\n",
    "        old_clust=new_clust[:]\n",
    "    print(old_dist_sum,new_dist_sum)    "
   ]
  },
  {
   "cell_type": "markdown",
   "metadata": {},
   "source": [
    "### Assigning Cluster"
   ]
  },
  {
   "cell_type": "code",
   "execution_count": 12,
   "metadata": {},
   "outputs": [
    {
     "data": {
      "text/plain": [
       "<matplotlib.collections.PathCollection at 0x7fc8d64bff28>"
      ]
     },
     "execution_count": 12,
     "metadata": {},
     "output_type": "execute_result"
    },
    {
     "data": {
      "image/png": "[encoded data removed]",
      "text/plain": [
       "<Figure size 432x288 with 1 Axes>"
      ]
     },
     "metadata": {
      "needs_background": "light"
     },
     "output_type": "display_data"
    }
   ],
   "source": [
    "plt.scatter(df[0][old_clust[0]],df[1][old_clust[0]])\n",
    "plt.scatter(df[0][old_clust[1]],df[1][old_clust[1]])\n",
    "plt.scatter(df[0][old_clust[2]],df[1][old_clust[2]])"
   ]
  },
  {
   "cell_type": "code",
   "execution_count": 13,
   "metadata": {},
   "outputs": [
    {
     "data": {
      "text/plain": [
       "<matplotlib.collections.PathCollection at 0x7fc8d6412128>"
      ]
     },
     "execution_count": 13,
     "metadata": {},
     "output_type": "execute_result"
    },
    {
     "data": {
      "image/png": "[encoded data removed]",
      "text/plain": [
       "<Figure size 432x288 with 1 Axes>"
      ]
     },
     "metadata": {
      "needs_background": "light"
     },
     "output_type": "display_data"
    }
   ],
   "source": [
    "plt.scatter(df[1][old_clust[0]],df[2][old_clust[0]])\n",
    "plt.scatter(df[1][old_clust[1]],df[2][old_clust[1]])\n",
    "plt.scatter(df[1][old_clust[2]],df[2][old_clust[2]])"
   ]
  },
  {
   "cell_type": "code",
   "execution_count": 14,
   "metadata": {},
   "outputs": [
    {
     "data": {
      "text/plain": [
       "<matplotlib.collections.PathCollection at 0x7fc8d63eac50>"
      ]
     },
     "execution_count": 14,
     "metadata": {},
     "output_type": "execute_result"
    },
    {
     "data": {
      "image/png": "[encoded data removed]",
      "text/plain": [
       "<Figure size 432x288 with 1 Axes>"
      ]
     },
     "metadata": {
      "needs_background": "light"
     },
     "output_type": "display_data"
    }
   ],
   "source": [
    "plt.scatter(df[0][old_clust[0]],df[2][old_clust[0]])\n",
    "plt.scatter(df[0][old_clust[1]],df[2][old_clust[1]])\n",
    "plt.scatter(df[0][old_clust[2]],df[2][old_clust[2]])"
   ]
  },
  {
   "cell_type": "code",
   "execution_count": null,
   "metadata": {},
   "outputs": [],
   "source": []
  }
 ],
 "metadata": {
  "kernelspec": {
   "display_name": "Python 3",
   "language": "python",
   "name": "python3"
  },
  "language_info": {
   "codemirror_mode": {
    "name": "ipython",
    "version": 3
   },
   "file_extension": ".py",
   "mimetype": "text/x-python",
   "name": "python",
   "nbconvert_exporter": "python",
   "pygments_lexer": "ipython3",
   "version": "3.7.3"
  }
 },
 "nbformat": 4,
 "nbformat_minor": 2
}
